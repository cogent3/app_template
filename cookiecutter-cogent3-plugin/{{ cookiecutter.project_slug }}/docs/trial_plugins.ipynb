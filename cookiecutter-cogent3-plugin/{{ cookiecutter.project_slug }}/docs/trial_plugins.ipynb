{
 "cells": [
  {
   "cell_type": "markdown",
   "metadata": {},
   "source": [
    "# See the app\n",
    "\n",
    "In the following cogent3.table you should see all the apps published by the library `{{ cookiecutter.library_name.strip().lower().replace(' ', '_') }}`.  If you don't see them check the instructions in `README.md` which contains instructions for installing a new app."
   ]
  },
  {
   "cell_type": "code",
   "execution_count": null,
   "metadata": {},
   "outputs": [],
   "source": [
    "import cogent3\n",
    "myapps = cogent3.available_apps().filtered('\"{{ cookiecutter.library_name.strip().lower().replace(' ', '_')+'.' }}\" in module')\n",
    "myapps\n"
   ]
  },
  {
   "cell_type": "markdown",
   "metadata": {},
   "source": [
    "# Test the app\n",
    "\n",
    "Here you are just making sure the app works as you expect.  You should still use `pytest` for your project that probe cogent3's ability to load and use your app as expected."
   ]
  },
  {
   "cell_type": "code",
   "execution_count": null,
   "metadata": {},
   "outputs": [],
   "source": [
    "for appentry in myapps:\n",
    "    print(appentry[1],end=':')\n",
    "    app = cogent3.get_app(appentry[0]+'.'+appentry[1])\n",
    "    print(app('Hello World'))"
   ]
  },
  {
   "cell_type": "markdown",
   "metadata": {},
   "source": [
    "# Check it's documentation\n",
    "You should see the documentation for this app given to cogent3 users"
   ]
  },
  {
   "cell_type": "code",
   "execution_count": null,
   "metadata": {},
   "outputs": [],
   "source": [
    "for appentry in myapps:\n",
    "    print(appentry[1],end=':')\n",
    "    cogent3.app_help(appentry[0]+'.'+appentry[1])\n",
    "    print('\\n\\n')"
   ]
  }
 ],
 "metadata": {
  "kernelspec": {
   "display_name": "venv",
   "language": "python",
   "name": "python3"
  },
  "language_info": {
   "codemirror_mode": {
    "name": "ipython",
    "version": 3
   },
   "file_extension": ".py",
   "mimetype": "text/x-python",
   "name": "python",
   "nbconvert_exporter": "python",
   "pygments_lexer": "ipython3",
   "version": "3.12.4"
  }
 },
 "nbformat": 4,
 "nbformat_minor": 2
}
