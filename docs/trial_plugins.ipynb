{
 "cells": [
  {
   "cell_type": "markdown",
   "metadata": {},
   "source": [
    "# See the app\n",
    "\n",
    "In the following you should see a new app called \"to_upper\".  If you don't see it check the instructions in `README.md` which contains instructions for installing a new app."
   ]
  },
  {
   "cell_type": "code",
   "execution_count": 1,
   "metadata": {},
   "outputs": [
    {
     "data": {
      "text/html": [
       "\n",
       "<div class=\"c3table\">\n",
       "\n",
       "<style>\n",
       ".c3table table {margin: 10px 0;}\n",
       ".c3table tr:last-child {border-bottom: 1px solid #000;} \n",
       ".c3table tr > th {text-align: left; padding: 0 5px;}\n",
       ".c3table tr > td {text-align: left; padding: 5px;}\n",
       ".c3table tr:nth-child(even) {background: #f7f7f7 !important;}\n",
       ".c3table .ellipsis {background: rgba(0, 0, 0, .01);}\n",
       ".c3table .index {background: rgba(161, 195, 209, 0.0); margin: 10px; font-weight: 600;}\n",
       ".c3table .head_cell {background: rgba(161, 195, 209, 0.75); font-weight: bold; text-align: center;}\n",
       ".c3table caption {color: rgb(250, 250, 250); background: rgba(30, 140, 200, 1); padding: 3px; white-space: nowrap; caption-side: top;}\n",
       ".c3table .cell_title {font-weight: bold;}\n",
       ".c3col_left { text-align: left !important; display: block;}\n",
       ".c3col_right { text-align: right !important; display: block;}\n",
       ".c3col_center { text-align: center !important; display: block;}\n",
       "</style>\n",
       "\n",
       "<table>\n",
       "\n",
       "<thead class=\"head_cell\">\n",
       "<th>module</th><th>name</th><th>composable</th><th>doc</th><th>input type</th><th>output type</th>\n",
       "</thead>\n",
       "<tbody>\n",
       "<tr><td><span class=\"c3col_left\">upper.uppercase</span></td><td><span class=\"c3col_left\">to_upper</span></td><td><span class=\"c3col_left\">True</span></td><td><span class=\"c3col_left\"></span></td><td><span class=\"c3col_left\">str</span></td><td><span class=\"c3col_left\">str</span></td></tr>\n",
       "<tr><td><span class=\"c3col_left\">cogent3.app.align</span></td><td><span class=\"c3col_left\">align_to_ref</span></td><td><span class=\"c3col_left\">True</span></td><td><span class=\"c3col_left\">Aligns sequences to a nominated reference in the unaligned collection.</span></td><td><span class=\"c3col_left\">SequenceCollection</span></td><td><span class=\"c3col_left\">Alignment, ArrayAlignment, SerialisableType</span></td></tr>\n",
       "</tbody>\n",
       "</table>\n",
       "<p>\n",
       "2 rows x 6 columns</p>\n",
       "</div>"
      ],
      "text/plain": [
       "==============================================================================================================================================================================================\n",
       "module               name            composable    doc                                                                       input type            output type                                \n",
       "----------------------------------------------------------------------------------------------------------------------------------------------------------------------------------------------\n",
       "upper.uppercase      to_upper        True                                                                                    str                   str                                        \n",
       "cogent3.app.align    align_to_ref    True          Aligns sequences to a nominated reference in the unaligned collection.    SequenceCollection    Alignment, ArrayAlignment, SerialisableType\n",
       "----------------------------------------------------------------------------------------------------------------------------------------------------------------------------------------------\n",
       "\n",
       "2 rows x 6 columns"
      ]
     },
     "execution_count": 1,
     "metadata": {},
     "output_type": "execute_result"
    }
   ],
   "source": [
    "import cogent3\n",
    "cogent3.available_apps('to_')\n"
   ]
  },
  {
   "cell_type": "markdown",
   "metadata": {},
   "source": [
    "# Test the app\n",
    "\n",
    "Here you are just making sure the app works as you expect.  You should still use `pytest` for your project that probe cogent3's ability to load and use your app as expected."
   ]
  },
  {
   "cell_type": "code",
   "execution_count": 2,
   "metadata": {},
   "outputs": [
    {
     "name": "stdout",
     "output_type": "stream",
     "text": [
      "HELLO WORLD\n"
     ]
    }
   ],
   "source": [
    "appercase = cogent3.get_app('to_upper')\n",
    "print(appercase('hello world'))"
   ]
  },
  {
   "cell_type": "markdown",
   "metadata": {},
   "source": [
    "# Check it's documentation\n",
    "You should see the documentation for this app given to cogent3 users"
   ]
  },
  {
   "cell_type": "code",
   "execution_count": 3,
   "metadata": {},
   "outputs": [
    {
     "name": "stdout",
     "output_type": "stream",
     "text": [
      "Options for making the app\n",
      "--------------------------\n",
      "to_upper_app = get_app(\"to_upper\", *args, **kwargs)\n",
      "\n",
      "Initialize self.  See help(type(self)) for accurate signature.\n",
      "\n",
      "Input type\n",
      "----------\n",
      "str\n",
      "\n",
      "Output type\n",
      "-----------\n",
      "str\n"
     ]
    }
   ],
   "source": [
    "cogent3.app_help('to_upper')"
   ]
  }
 ],
 "metadata": {
  "kernelspec": {
   "display_name": "venv",
   "language": "python",
   "name": "python3"
  },
  "language_info": {
   "codemirror_mode": {
    "name": "ipython",
    "version": 3
   },
   "file_extension": ".py",
   "mimetype": "text/x-python",
   "name": "python",
   "nbconvert_exporter": "python",
   "pygments_lexer": "ipython3",
   "version": "3.12.4"
  }
 },
 "nbformat": 4,
 "nbformat_minor": 2
}
